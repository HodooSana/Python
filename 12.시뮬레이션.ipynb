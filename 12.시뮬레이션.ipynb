{
 "cells": [
  {
   "cell_type": "markdown",
   "metadata": {},
   "source": [
    "# 몬테카를로 시뮬레이션\n",
    ": 자료가 없을 경우 난수를 통해서 가설 증명"
   ]
  },
  {
   "cell_type": "code",
   "execution_count": null,
   "metadata": {},
   "outputs": [],
   "source": [
    "# 동전의 앞면과 뒷면이 나올 확률이 같다는 것을 증명"
   ]
  },
  {
   "cell_type": "code",
   "execution_count": 1,
   "metadata": {},
   "outputs": [],
   "source": [
    "import random"
   ]
  },
  {
   "cell_type": "code",
   "execution_count": 2,
   "metadata": {},
   "outputs": [
    {
     "data": {
      "text/plain": [
       "6"
      ]
     },
     "execution_count": 2,
     "metadata": {},
     "output_type": "execute_result"
    }
   ],
   "source": [
    "random.randint(1, 10)"
   ]
  },
  {
   "cell_type": "code",
   "execution_count": 3,
   "metadata": {},
   "outputs": [],
   "source": [
    "def coinF(n):\n",
    "    coinFront = coinRear = 0\n",
    "    for i in range(1, n+1):\n",
    "        x = random.randint(1, 2)\n",
    "        if x ==1:\n",
    "            coinFront += 1\n",
    "        else:\n",
    "            coinRear += 1\n",
    "    print(\"%7d번 시도했을 때 동전의 앞면은 %6d번이고 동전의 뒷면은 %6d번 입니다.\"%(n, coinFront, coinRear))"
   ]
  },
  {
   "cell_type": "code",
   "execution_count": 6,
   "metadata": {},
   "outputs": [
    {
     "name": "stdout",
     "output_type": "stream",
     "text": [
      "     10번 시도했을 때 동전의 앞면은      3번이고 동전의 뒷면은      7번 입니다.\n",
      "    100번 시도했을 때 동전의 앞면은     54번이고 동전의 뒷면은     46번 입니다.\n",
      "   1000번 시도했을 때 동전의 앞면은    468번이고 동전의 뒷면은    532번 입니다.\n",
      "  10000번 시도했을 때 동전의 앞면은   4950번이고 동전의 뒷면은   5050번 입니다.\n",
      " 100000번 시도했을 때 동전의 앞면은  50169번이고 동전의 뒷면은  49831번 입니다.\n",
      "1000000번 시도했을 때 동전의 앞면은 500608번이고 동전의 뒷면은 499392번 입니다.\n"
     ]
    }
   ],
   "source": [
    "coinF(10)\n",
    "coinF(100)\n",
    "coinF(1000)\n",
    "coinF(10000)\n",
    "coinF(100000)\n",
    "coinF(1000000)"
   ]
  },
  {
   "cell_type": "code",
   "execution_count": 16,
   "metadata": {},
   "outputs": [],
   "source": [
    "def RSP(n):\n",
    "    r = s = p = 0\n",
    "    for i in range(1, n+1):\n",
    "        x = random.randint(1,3)\n",
    "        if x == 1:\n",
    "            r += 1\n",
    "        elif x == 2:\n",
    "            s += 1\n",
    "        else:\n",
    "            p += 1\n",
    "    print(\"%7d번 시도했을 때 가위는 %6d번이고 바위는 %6d번이고 보는 %6d입니다.\"%(n, s, r, p))"
   ]
  },
  {
   "cell_type": "code",
   "execution_count": 17,
   "metadata": {},
   "outputs": [
    {
     "name": "stdout",
     "output_type": "stream",
     "text": [
      "     10번 시도했을 때 가위는      2번이고 바위는      2번이고 보는      6입니다.\n",
      "    100번 시도했을 때 가위는     31번이고 바위는     34번이고 보는     35입니다.\n",
      "   1000번 시도했을 때 가위는    341번이고 바위는    338번이고 보는    321입니다.\n",
      "  10000번 시도했을 때 가위는   3288번이고 바위는   3412번이고 보는   3300입니다.\n",
      " 100000번 시도했을 때 가위는  33360번이고 바위는  33000번이고 보는  33640입니다.\n",
      "1000000번 시도했을 때 가위는 333921번이고 바위는 333653번이고 보는 332426입니다.\n"
     ]
    }
   ],
   "source": [
    "RSP(10)\n",
    "RSP(100)\n",
    "RSP(1000)\n",
    "RSP(10000)\n",
    "RSP(100000)\n",
    "RSP(1000000)"
   ]
  }
 ],
 "metadata": {
  "kernelspec": {
   "display_name": "Python 3.9.7 ('base')",
   "language": "python",
   "name": "python3"
  },
  "language_info": {
   "codemirror_mode": {
    "name": "ipython",
    "version": 3
   },
   "file_extension": ".py",
   "mimetype": "text/x-python",
   "name": "python",
   "nbconvert_exporter": "python",
   "pygments_lexer": "ipython3",
   "version": "3.9.7"
  },
  "orig_nbformat": 4,
  "vscode": {
   "interpreter": {
    "hash": "511602710a04226a7035eac3226522c503ec7dae45aefbab65d4840dbc1adc8c"
   }
  }
 },
 "nbformat": 4,
 "nbformat_minor": 2
}
