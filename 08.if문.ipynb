{
 "cells": [
  {
   "cell_type": "code",
   "execution_count": 1,
   "metadata": {},
   "outputs": [],
   "source": [
    "from random import randint"
   ]
  },
  {
   "cell_type": "code",
   "execution_count": 2,
   "metadata": {},
   "outputs": [
    {
     "data": {
      "text/plain": [
       "19"
      ]
     },
     "execution_count": 2,
     "metadata": {},
     "output_type": "execute_result"
    }
   ],
   "source": [
    "randint(1,100)"
   ]
  },
  {
   "cell_type": "code",
   "execution_count": 7,
   "metadata": {},
   "outputs": [
    {
     "name": "stdout",
     "output_type": "stream",
     "text": [
      "0보다 큽니다.\n"
     ]
    }
   ],
   "source": [
    "x = randint(1, 100)\n",
    "\n",
    "if x > 70:\n",
    "    print(\"70보다 큽니다. \")\n",
    "elif x > 50:\n",
    "    print(\"50보다 큽니다. \")\n",
    "elif x > 30:\n",
    "    print(\"30보다 큽니다. \")\n",
    "else:\n",
    "    print(\"0보다 큽니다.\")"
   ]
  },
  {
   "cell_type": "code",
   "execution_count": 9,
   "metadata": {},
   "outputs": [
    {
     "name": "stdout",
     "output_type": "stream",
     "text": [
      "홀수입니다. \n"
     ]
    }
   ],
   "source": [
    "# 홀짝수 구분\n",
    "x = 9\n",
    "\n",
    "if x % 2 == 0:\n",
    "    print(\"짝수입니다. \")\n",
    "elif x % 2 == 1:\n",
    "    print(\"홀수입니다. \")"
   ]
  },
  {
   "cell_type": "code",
   "execution_count": 12,
   "metadata": {},
   "outputs": [
    {
     "data": {
      "text/plain": [
       "int"
      ]
     },
     "execution_count": 12,
     "metadata": {},
     "output_type": "execute_result"
    }
   ],
   "source": [
    "# 사용자로부터 숫자를 입력받자!\n",
    "# 어떤 타입이니? 할때는 type\n",
    "number = int(input(\"숫자를 입력하세요 : \"))\n",
    "type(number)"
   ]
  },
  {
   "cell_type": "code",
   "execution_count": 19,
   "metadata": {},
   "outputs": [
    {
     "name": "stdout",
     "output_type": "stream",
     "text": [
      "9  는 홀수 입니다.\n"
     ]
    }
   ],
   "source": [
    "num = int(input(\"숫자를 입력하세요 : \"))\n",
    "\n",
    "if num % 2 == 0:\n",
    "    print(num, \" 는 짝수 입니다.\")\n",
    "elif num % 2 == 1:\n",
    "    print(num, \" 는 홀수 입니다.\")\n"
   ]
  },
  {
   "cell_type": "code",
   "execution_count": 26,
   "metadata": {},
   "outputs": [
    {
     "name": "stdout",
     "output_type": "stream",
     "text": [
      "점수는  22 이고 F학점 입니다. \n"
     ]
    }
   ],
   "source": [
    "score = int(input(\"점수를 입력하세요 : \"))\n",
    "\n",
    "if score >= 90:\n",
    "    print(\"점수는 \",score, \"이고 A학점 입니다. \")\n",
    "elif score >= 80:\n",
    "    print(\"점수는 \",score, \"이고 B학점 입니다. \")\n",
    "elif score >= 70:\n",
    "    print(\"점수는 \",score, \"이고 C학점 입니다. \")\n",
    "elif score >= 50:\n",
    "    print(\"점수는 \",score, \"이고 D학점 입니다. \")\n",
    "else:\n",
    "    print(\"점수는 \", score, \"이고 F학점 입니다. \")\n"
   ]
  },
  {
   "cell_type": "code",
   "execution_count": 41,
   "metadata": {},
   "outputs": [
    {
     "name": "stdout",
     "output_type": "stream",
     "text": [
      "5의 배수일 때 제곱근 구하면 :  7.0710678118654755\n"
     ]
    }
   ],
   "source": [
    "# 사용자로 부터 숫자를 입력받아 5의 배수이면 제곱근을 구하고 그렇지 않으면 원래 수를 출력하기\n",
    "\n",
    "import math\n",
    "inputnum = int(input(\"숫자를 입력하세요 : \"))\n",
    "\n",
    "if inputnum % 5 == 0:\n",
    "   result = math.sqrt(inputnum)\n",
    "   print(\"5의 배수일 때 제곱근 구하면 : \", result)\n",
    "else: \n",
    "    print(inputnum)"
   ]
  },
  {
   "cell_type": "code",
   "execution_count": 47,
   "metadata": {},
   "outputs": [
    {
     "name": "stdout",
     "output_type": "stream",
     "text": [
      "신용카드를 사용한 택시 타기\n",
      "---END---\n"
     ]
    }
   ],
   "source": [
    "# list의 내용을 if문으로 확인하기\n",
    "\n",
    "pocket = ['paper', 'smartphone']\n",
    "card = 1\n",
    "\n",
    "if 'money' in pocket:\n",
    "    print(\"현금으로 택시타기\")\n",
    "elif card:\n",
    "    print(\"신용카드를 사용한 택시 타기\")\n",
    "else:\n",
    "    print(\"튼튼한 다리를 사용\")\n",
    "\n",
    "print(\"---END---\")"
   ]
  },
  {
   "cell_type": "code",
   "execution_count": 50,
   "metadata": {},
   "outputs": [
    {
     "name": "stdout",
     "output_type": "stream",
     "text": [
      "18\n"
     ]
    }
   ],
   "source": [
    "# 삼항 연산자\n",
    "# 변수 = 참인 경우 if(조건문) else (거짓인 경우)\n",
    "\n",
    "num = 9\n",
    "result = 0\n",
    "\n",
    "result = num * 2 if num >= 5 else num + 2\n",
    "print(result)"
   ]
  },
  {
   "cell_type": "code",
   "execution_count": null,
   "metadata": {},
   "outputs": [],
   "source": []
  },
  {
   "cell_type": "code",
   "execution_count": null,
   "metadata": {},
   "outputs": [],
   "source": []
  },
  {
   "cell_type": "code",
   "execution_count": null,
   "metadata": {},
   "outputs": [],
   "source": []
  },
  {
   "cell_type": "code",
   "execution_count": null,
   "metadata": {},
   "outputs": [],
   "source": []
  },
  {
   "cell_type": "code",
   "execution_count": null,
   "metadata": {},
   "outputs": [],
   "source": []
  },
  {
   "cell_type": "code",
   "execution_count": null,
   "metadata": {},
   "outputs": [],
   "source": []
  },
  {
   "cell_type": "code",
   "execution_count": null,
   "metadata": {},
   "outputs": [],
   "source": []
  }
 ],
 "metadata": {
  "kernelspec": {
   "display_name": "Python 3.9.7 ('base')",
   "language": "python",
   "name": "python3"
  },
  "language_info": {
   "codemirror_mode": {
    "name": "ipython",
    "version": 3
   },
   "file_extension": ".py",
   "mimetype": "text/x-python",
   "name": "python",
   "nbconvert_exporter": "python",
   "pygments_lexer": "ipython3",
   "version": "3.9.7"
  },
  "orig_nbformat": 4,
  "vscode": {
   "interpreter": {
    "hash": "511602710a04226a7035eac3226522c503ec7dae45aefbab65d4840dbc1adc8c"
   }
  }
 },
 "nbformat": 4,
 "nbformat_minor": 2
}
