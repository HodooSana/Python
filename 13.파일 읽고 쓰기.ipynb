{
 "cells": [
  {
   "cell_type": "markdown",
   "metadata": {},
   "source": [
    "---\n",
    "# 파일 읽고 쓰기"
   ]
  },
  {
   "cell_type": "code",
   "execution_count": 1,
   "metadata": {},
   "outputs": [],
   "source": [
    "# 파일을 쓰기 모드로 열어 출력값 저장하기\n",
    "\n",
    "f = open(\"../Data/new.txt\",\"w\")\n",
    "for i in range(1, 11):\n",
    "    data = \"%d번째 줄 입니다. \\n\"%i\n",
    "    f.write(data)\n",
    "f.close()"
   ]
  },
  {
   "cell_type": "code",
   "execution_count": 3,
   "metadata": {},
   "outputs": [
    {
     "name": "stdout",
     "output_type": "stream",
     "text": [
      "1번째 줄 입니다. \n",
      "\n",
      "2번째 줄 입니다. \n",
      "\n",
      "3번째 줄 입니다. \n",
      "\n",
      "4번째 줄 입니다. \n",
      "\n",
      "5번째 줄 입니다. \n",
      "\n",
      "6번째 줄 입니다. \n",
      "\n",
      "7번째 줄 입니다. \n",
      "\n",
      "8번째 줄 입니다. \n",
      "\n",
      "9번째 줄 입니다. \n",
      "\n",
      "10번째 줄 입니다. \n",
      "\n"
     ]
    }
   ],
   "source": [
    "# 파일을 읽기모드로 열어 파일 내용 출력하기 : #1\n",
    "f = open(\"../Data/new.txt\",\"r\")\n",
    "while True:\n",
    "    line = f.readline()\n",
    "    if not line:\n",
    "        break\n",
    "    print(line)\n",
    "f.close()"
   ]
  },
  {
   "cell_type": "code",
   "execution_count": 5,
   "metadata": {},
   "outputs": [
    {
     "name": "stdout",
     "output_type": "stream",
     "text": [
      "1번째 줄 입니다. \n",
      "\n",
      "2번째 줄 입니다. \n",
      "\n",
      "3번째 줄 입니다. \n",
      "\n",
      "4번째 줄 입니다. \n",
      "\n",
      "5번째 줄 입니다. \n",
      "\n",
      "6번째 줄 입니다. \n",
      "\n",
      "7번째 줄 입니다. \n",
      "\n",
      "8번째 줄 입니다. \n",
      "\n",
      "9번째 줄 입니다. \n",
      "\n",
      "10번째 줄 입니다. \n",
      "\n"
     ]
    },
    {
     "data": {
      "text/plain": [
       "<function TextIOWrapper.close()>"
      ]
     },
     "execution_count": 5,
     "metadata": {},
     "output_type": "execute_result"
    }
   ],
   "source": [
    "# 파일을 읽기모드로 열어 파일 내용 출력하기 : #2\n",
    "f = open(\"../Data/new.txt\", \"r\")\n",
    "lines = f.readlines()\n",
    "for line in lines:\n",
    "    print(line)\n",
    "f.close\n"
   ]
  },
  {
   "cell_type": "code",
   "execution_count": 6,
   "metadata": {},
   "outputs": [
    {
     "name": "stdout",
     "output_type": "stream",
     "text": [
      "1번째 줄 입니다. \n",
      "2번째 줄 입니다. \n",
      "3번째 줄 입니다. \n",
      "4번째 줄 입니다. \n",
      "5번째 줄 입니다. \n",
      "6번째 줄 입니다. \n",
      "7번째 줄 입니다. \n",
      "8번째 줄 입니다. \n",
      "9번째 줄 입니다. \n",
      "10번째 줄 입니다. \n",
      "\n"
     ]
    }
   ],
   "source": [
    "# 파일을 읽기모드로 열어 파일 내용 출력하기 : #2\n",
    "f = open(\"../Data/new.txt\", 'r')\n",
    "data = f.read()\n",
    "print(data)\n",
    "f.close()"
   ]
  },
  {
   "cell_type": "code",
   "execution_count": 7,
   "metadata": {},
   "outputs": [
    {
     "ename": "IndentationError",
     "evalue": "unexpected indent (2489882308.py, line 3)",
     "output_type": "error",
     "traceback": [
      "\u001b[0;36m  File \u001b[0;32m\"/var/folders/r9/905wglgd76v1f_n1q9jw68rr0000gn/T/ipykernel_3714/2489882308.py\"\u001b[0;36m, line \u001b[0;32m3\u001b[0m\n\u001b[0;31m    data = f.read()\u001b[0m\n\u001b[0m    ^\u001b[0m\n\u001b[0;31mIndentationError\u001b[0m\u001b[0;31m:\u001b[0m unexpected indent\n"
     ]
    }
   ],
   "source": [
    "# 파일에 새로운 내용 추가하기\n",
    "f = open(\"../Data/new.txt\", 'a')\n",
    "    data = f.read()\n",
    "    print(data)\n",
    "    f.close()\n"
   ]
  },
  {
   "cell_type": "code",
   "execution_count": null,
   "metadata": {},
   "outputs": [],
   "source": [
    "# with문"
   ]
  },
  {
   "cell_type": "code",
   "execution_count": 8,
   "metadata": {},
   "outputs": [],
   "source": [
    "# 파일 만들기\n",
    "with open(\"../Data/new3.txt\",'w') as f:\n",
    "    for i in range(1, 11):\n",
    "        data = \"%d번째 줄 입니다. \\n\"%i\n",
    "        f.write(data)"
   ]
  },
  {
   "cell_type": "code",
   "execution_count": 9,
   "metadata": {},
   "outputs": [
    {
     "name": "stdout",
     "output_type": "stream",
     "text": [
      "1번째 줄 입니다. \n",
      "2번째 줄 입니다. \n",
      "3번째 줄 입니다. \n",
      "4번째 줄 입니다. \n",
      "5번째 줄 입니다. \n",
      "6번째 줄 입니다. \n",
      "7번째 줄 입니다. \n",
      "8번째 줄 입니다. \n",
      "9번째 줄 입니다. \n",
      "10번째 줄 입니다. \n",
      "\n"
     ]
    }
   ],
   "source": [
    "# 파일 읽기\n",
    "with open(\"../Data/new3.txt\", 'r') as f:\n",
    "    data = f.read()\n",
    "    print(data)"
   ]
  },
  {
   "cell_type": "markdown",
   "metadata": {},
   "source": [
    "----\n",
    "# Pandas로 불러오기"
   ]
  },
  {
   "cell_type": "code",
   "execution_count": 10,
   "metadata": {},
   "outputs": [],
   "source": [
    "import pandas as pd"
   ]
  },
  {
   "cell_type": "code",
   "execution_count": 13,
   "metadata": {},
   "outputs": [],
   "source": [
    "# txt file 불러오기\n",
    "txtSample = pd.read_table(\"../Data/new.txt\", header = None)"
   ]
  },
  {
   "cell_type": "code",
   "execution_count": 14,
   "metadata": {},
   "outputs": [
    {
     "data": {
      "text/html": [
       "<div>\n",
       "<style scoped>\n",
       "    .dataframe tbody tr th:only-of-type {\n",
       "        vertical-align: middle;\n",
       "    }\n",
       "\n",
       "    .dataframe tbody tr th {\n",
       "        vertical-align: top;\n",
       "    }\n",
       "\n",
       "    .dataframe thead th {\n",
       "        text-align: right;\n",
       "    }\n",
       "</style>\n",
       "<table border=\"1\" class=\"dataframe\">\n",
       "  <thead>\n",
       "    <tr style=\"text-align: right;\">\n",
       "      <th></th>\n",
       "      <th>0</th>\n",
       "    </tr>\n",
       "  </thead>\n",
       "  <tbody>\n",
       "    <tr>\n",
       "      <th>0</th>\n",
       "      <td>1번째 줄 입니다.</td>\n",
       "    </tr>\n",
       "    <tr>\n",
       "      <th>1</th>\n",
       "      <td>2번째 줄 입니다.</td>\n",
       "    </tr>\n",
       "    <tr>\n",
       "      <th>2</th>\n",
       "      <td>3번째 줄 입니다.</td>\n",
       "    </tr>\n",
       "    <tr>\n",
       "      <th>3</th>\n",
       "      <td>4번째 줄 입니다.</td>\n",
       "    </tr>\n",
       "    <tr>\n",
       "      <th>4</th>\n",
       "      <td>5번째 줄 입니다.</td>\n",
       "    </tr>\n",
       "  </tbody>\n",
       "</table>\n",
       "</div>"
      ],
      "text/plain": [
       "             0\n",
       "0  1번째 줄 입니다. \n",
       "1  2번째 줄 입니다. \n",
       "2  3번째 줄 입니다. \n",
       "3  4번째 줄 입니다. \n",
       "4  5번째 줄 입니다. "
      ]
     },
     "execution_count": 14,
     "metadata": {},
     "output_type": "execute_result"
    }
   ],
   "source": [
    "txtSample.head()"
   ]
  },
  {
   "cell_type": "code",
   "execution_count": 15,
   "metadata": {},
   "outputs": [],
   "source": [
    "# txt file로 저장하기\n",
    "txtSample.to_string(\"../Data/sample_file.txt\", index=False, header=None)"
   ]
  },
  {
   "cell_type": "code",
   "execution_count": 16,
   "metadata": {},
   "outputs": [
    {
     "data": {
      "text/html": [
       "<div>\n",
       "<style scoped>\n",
       "    .dataframe tbody tr th:only-of-type {\n",
       "        vertical-align: middle;\n",
       "    }\n",
       "\n",
       "    .dataframe tbody tr th {\n",
       "        vertical-align: top;\n",
       "    }\n",
       "\n",
       "    .dataframe thead th {\n",
       "        text-align: right;\n",
       "    }\n",
       "</style>\n",
       "<table border=\"1\" class=\"dataframe\">\n",
       "  <thead>\n",
       "    <tr style=\"text-align: right;\">\n",
       "      <th></th>\n",
       "      <th>0</th>\n",
       "    </tr>\n",
       "  </thead>\n",
       "  <tbody>\n",
       "    <tr>\n",
       "      <th>0</th>\n",
       "      <td>1번째 줄 입니다.</td>\n",
       "    </tr>\n",
       "    <tr>\n",
       "      <th>1</th>\n",
       "      <td>2번째 줄 입니다.</td>\n",
       "    </tr>\n",
       "    <tr>\n",
       "      <th>2</th>\n",
       "      <td>3번째 줄 입니다.</td>\n",
       "    </tr>\n",
       "    <tr>\n",
       "      <th>3</th>\n",
       "      <td>4번째 줄 입니다.</td>\n",
       "    </tr>\n",
       "    <tr>\n",
       "      <th>4</th>\n",
       "      <td>5번째 줄 입니다.</td>\n",
       "    </tr>\n",
       "    <tr>\n",
       "      <th>5</th>\n",
       "      <td>6번째 줄 입니다.</td>\n",
       "    </tr>\n",
       "    <tr>\n",
       "      <th>6</th>\n",
       "      <td>7번째 줄 입니다.</td>\n",
       "    </tr>\n",
       "    <tr>\n",
       "      <th>7</th>\n",
       "      <td>8번째 줄 입니다.</td>\n",
       "    </tr>\n",
       "    <tr>\n",
       "      <th>8</th>\n",
       "      <td>9번째 줄 입니다.</td>\n",
       "    </tr>\n",
       "    <tr>\n",
       "      <th>9</th>\n",
       "      <td>10번째 줄 입니다.</td>\n",
       "    </tr>\n",
       "  </tbody>\n",
       "</table>\n",
       "</div>"
      ],
      "text/plain": [
       "              0\n",
       "0   1번째 줄 입니다. \n",
       "1   2번째 줄 입니다. \n",
       "2   3번째 줄 입니다. \n",
       "3   4번째 줄 입니다. \n",
       "4   5번째 줄 입니다. \n",
       "5   6번째 줄 입니다. \n",
       "6   7번째 줄 입니다. \n",
       "7   8번째 줄 입니다. \n",
       "8   9번째 줄 입니다. \n",
       "9  10번째 줄 입니다. "
      ]
     },
     "execution_count": 16,
     "metadata": {},
     "output_type": "execute_result"
    }
   ],
   "source": [
    "pd.read_table(\"../Data/sample_file.txt\", header=None)"
   ]
  },
  {
   "cell_type": "code",
   "execution_count": null,
   "metadata": {},
   "outputs": [],
   "source": []
  }
 ],
 "metadata": {
  "kernelspec": {
   "display_name": "Python 3.9.7 ('base')",
   "language": "python",
   "name": "python3"
  },
  "language_info": {
   "codemirror_mode": {
    "name": "ipython",
    "version": 3
   },
   "file_extension": ".py",
   "mimetype": "text/x-python",
   "name": "python",
   "nbconvert_exporter": "python",
   "pygments_lexer": "ipython3",
   "version": "3.9.7"
  },
  "orig_nbformat": 4,
  "vscode": {
   "interpreter": {
    "hash": "511602710a04226a7035eac3226522c503ec7dae45aefbab65d4840dbc1adc8c"
   }
  }
 },
 "nbformat": 4,
 "nbformat_minor": 2
}
